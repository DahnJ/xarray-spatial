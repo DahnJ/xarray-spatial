{
 "cells": [
  {
   "cell_type": "code",
   "execution_count": null,
   "id": "2a806e31",
   "metadata": {},
   "outputs": [],
   "source": [
    "from xrspatial import reprojection_rio.ipynbjection"
   ]
  },
  {
   "cell_type": "code",
   "execution_count": null,
   "id": "ad64aa71",
   "metadata": {},
   "outputs": [],
   "source": [
    "def shade_elev_hs(elev_3D, band=1):\n",
    "    if not isinstance(elev_3D, xr.DataArray):\n",
    "        elev_3D = xr.DataArray(elev_3D, dims=('band', 'y', 'x'))\n",
    "    return stack(shade(elev_3D[band-1], cmap=Elevation),\n",
    "                 shade(hillshade(elev_3D[band-1]), cmap=['blue', 'grey'],\n",
    "                       how='eq_hist', min_alpha=0.2, alpha=0.8))"
   ]
  },
  {
   "cell_type": "markdown",
   "id": "889fa9df",
   "metadata": {},
   "source": [
    "## Reprojection: some examples with several common earth projections\n",
    "### Xarray-spatial provides the option to reproject the coordinate reference system (crs) of xarray DataArrays, using standard notation"
   ]
  },
  {
   "cell_type": "code",
   "execution_count": null,
   "id": "e81280cd",
   "metadata": {},
   "outputs": [],
   "source": [
    "earth_lat_lon = rioxarray.open_rasterio('/Users/ls/Downloads/elevation.tif', chunks=(1, 135, 270))\n",
    "shade_elev_hs(earth_lat_lon)"
   ]
  },
  {
   "cell_type": "code",
   "execution_count": null,
   "id": "4d282ec3",
   "metadata": {},
   "outputs": [],
   "source": [
    "web_mercator_crs = 'EPSG:3857'\n",
    "web_mercator_earth = reprojection_rio(earth_lat_lon, web_mercator_crs)\n",
    "shade_elev_hs(web_mercator_earth)"
   ]
  },
  {
   "cell_type": "code",
   "execution_count": null,
   "id": "a1768d9f",
   "metadata": {},
   "outputs": [],
   "source": [
    "robinson_crs = 'ESRI:54030'\n",
    "robinson_earth = reprojection_rio(earth_lat_lon[:,:,:], robinson_crs)\n",
    "shade_elev_hs(robinson_earth)"
   ]
  },
  {
   "cell_type": "code",
   "execution_count": null,
   "id": "1e8e65bf",
   "metadata": {},
   "outputs": [],
   "source": [
    "transverse_mercator_crs = 'EPSG:3004'\n",
    "transverse_mercator_earth = reprojection_rio(earth_lat_lon[:,:50,:], transverse_mercator_crs)\n",
    "shade_elev_hs(transverse_mercator_earth)"
   ]
  },
  {
   "cell_type": "code",
   "execution_count": null,
   "id": "49e8073c",
   "metadata": {},
   "outputs": [],
   "source": [
    "lambert_crs = 'ESRI:102009'\n",
    "lambert_earth_NA = reprojection_rio(earth_lat_lon[:,25:125,50:200], lambert_crs)\n",
    "shade_elev_hs(lambert_earth_NA)"
   ]
  },
  {
   "cell_type": "code",
   "execution_count": null,
   "id": "0057bab0",
   "metadata": {},
   "outputs": [],
   "source": [
    "space_oblique_crs = 'EPSG:29873'\n",
    "space_oblique_earth = reprojection_rio(earth_lat_lon[:,:100,:150], space_oblique_crs)\n",
    "shade_elev_hs(space_oblique_earth)"
   ]
  }
 ],
 "metadata": {
  "language_info": {
   "name": "python"
  }
 },
 "nbformat": 4,
 "nbformat_minor": 5
}
