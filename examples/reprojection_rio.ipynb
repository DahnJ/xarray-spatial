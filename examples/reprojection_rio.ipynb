{
 "cells": [
  {
   "cell_type": "markdown",
   "id": "b2e01092",
   "metadata": {},
   "source": [
    "### Reprojection: transforming map DataArrays between coordinate reference systems (crs)\n",
    "#### Xarray-spatial's reproject takes in a spatially referenced source raster aligned with one coordinate reference system (crs) and transforms it into another crs, warping the shape and features and resetting the coordinates."
   ]
  },
  {
   "cell_type": "markdown",
   "id": "b3ea1737",
   "metadata": {},
   "source": [
    "Let's bring in the packages we'll be using. First, we'll import the basic data manipulation packages, Numpy and Xarray, and then Rasterio and Rioxarray, two packages important for dealing with rasters and crs's.  \n",
    "\n",
    "Then we'll get Geopandas, Spatialpandas, and some geometry classes for dealing with shapefile data and geometries.  \n",
    "\n",
    "We'll also want datashader and some of its rendering functions for easy visualization of our generated data.\n",
    "\n",
    "Finally, we'll import Xarray-spatial's reproject."
   ]
  },
  {
   "cell_type": "code",
   "execution_count": null,
   "id": "2a806e31",
   "metadata": {},
   "outputs": [],
   "source": [
    "import numpy as np\n",
    "import xarray as xr\n",
    "\n",
    "import rasterio\n",
    "import rioxarray\n",
    "\n",
    "import geopandas as gpd\n",
    "import spatialpandas as spd\n",
    "from shapely.geometry.point import Point\n",
    "from shapely.geometry.linestring import LineString\n",
    "\n",
    "import datashader as ds\n",
    "from datashader.transfer_functions import shade, stack, set_background\n",
    "from datashader.colors import Elevation\n",
    "\n",
    "from reprojection import reproject"
   ]
  },
  {
   "cell_type": "markdown",
   "id": "e510525b",
   "metadata": {},
   "source": [
    "To get started, let's set up a shader function to render our output DataArrays overlayed with the target country shapes for the desired crs."
   ]
  },
  {
   "cell_type": "code",
   "execution_count": null,
   "id": "1faaca8c",
   "metadata": {},
   "outputs": [],
   "source": [
    "# first set up countries pts GeoDataFrame to use for crs transformations\n",
    "def setup_countries_pts():\n",
    "    world = gpd.read_file(gpd.datasets.get_path('naturalearth_lowres'))\n",
    "    countries = world[['name', 'geometry']]\n",
    "    countries_src_crs = countries.crs\n",
    "    \n",
    "    countries = countries.explode('geometry').reset_index(drop=True)\n",
    "    \n",
    "    points_dict = {'geometry': [], 'grp_idx': []}\n",
    "    for i in range(len(countries['geometry'].values)):\n",
    "        line = countries['geometry'].values[i]\n",
    "        list_coords = list(line.array_interface_base['data'])\n",
    "        for j in range(0, len(list_coords), 2):\n",
    "            x_coord = list_coords[j]\n",
    "            y_coord = list_coords[j + 1]\n",
    "            point = Point(x_coord, y_coord)\n",
    "            points_dict['geometry'].append(point)\n",
    "            points_dict['grp_idx'].append(i)\n",
    "    \n",
    "    points_gdf = gpd.GeoDataFrame(points_dict, geometry='geometry', crs=countries_src_crs)\n",
    "    return points_gdf\n",
    "\n",
    "\n",
    "country_pts_gdf = setup_countries_pts()\n",
    "\n",
    "\n",
    "def countries_warp_boundary(points, dst_crs):\n",
    "    points_gdf = points.to_crs(dst_crs)\n",
    "    points_gdf_lines = points_gdf.groupby('grp_idx')\n",
    "    pts_lines_geom = points_gdf_lines['geometry']\n",
    "    lines_dict = {'geometry': []}\n",
    "    for pts in pts_lines_geom:\n",
    "        pts_set = pts[1]\n",
    "        pts_list = [pt for pt in pts_set]\n",
    "        line = LineString(pts_list)\n",
    "        lines_dict['geometry'].append(line)\n",
    "\n",
    "    countries_lines = gpd.GeoDataFrame(lines_dict, geometry='geometry')\n",
    "    return countries_lines\n",
    "\n",
    "\n",
    "def stack_countries_elevation(elevation):\n",
    "    elev_crs = elevation.rio.crs\n",
    "    if len(elevation.shape) == 3:\n",
    "        elevation = elevation.squeeze()\n",
    "    \n",
    "    elev_height, elev_width = elevation.shape\n",
    "    \n",
    "    country_lines = countries_warp_boundary(country_pts_gdf, elev_crs)\n",
    "    \n",
    "    countries_spd = spd.GeoDataFrame(country_lines, geometry='geometry')\n",
    "\n",
    "    minx, maxx = countries_spd['geometry'].bounds['x0'].min(),\\\n",
    "                 countries_spd['geometry'].bounds['x1'].max()\n",
    "    miny, maxy = countries_spd['geometry'].bounds['y0'].min(),\\\n",
    "                 countries_spd['geometry'].bounds['y1'].max()\n",
    "\n",
    "    canvas = ds.Canvas(plot_height=elev_height, plot_width=elev_width, x_range=(minx, maxx), y_range=(miny, maxy))\n",
    "    \n",
    "    elev_rst = canvas.raster(elevation)\n",
    "    shade_elev = shade(elev_rst, cmap=Elevation, min_alpha=0, alpha=165)\n",
    "    \n",
    "    countries_rst = canvas.line(countries_spd, geometry='geometry')\n",
    "    countries_rst.coords['x'] = elev_rst.coords['x']\n",
    "    countries_rst.coords['y'] = elev_rst.coords['y']\n",
    "    countries_rst.data = ds.utils.orient_array(countries_rst)\n",
    "    shade_countries = shade(countries_rst, cmap=['yellow'], alpha=255)\n",
    "#     return shade_countries\n",
    "    return stack(shade_countries, shade_elev)"
   ]
  },
  {
   "cell_type": "markdown",
   "id": "32eef617",
   "metadata": {},
   "source": [
    "Now, we're ready to generate some map images.\n",
    "\n",
    "Representing a 3D surface like the earth in a 2D map has been a challenge for a long time in cartography. Many solutions have been found, but ultimately it comes down to a compromise between distortions in distance, direction, and area. Different coordinate reference systems (crs) perform differently in these 3 metrics in different map areas.\n",
    "\n",
    "A few of the more well-known projections follow:"
   ]
  },
  {
   "cell_type": "markdown",
   "id": "ebf60cd2",
   "metadata": {},
   "source": [
    "The lat/lon (equirectangular) projection, EPSG:4326:  \n",
    "This very common one displays meridians and parallels as equally spaced vertical and horizontal lines. Conversion between x, y coordinates on the map and earth locations are very simple, and this is a very popular one for general use. However, the significant distortions inherent to this method make it impractical for many scientific application.\n",
    "\n",
    "Let's open an earth elevation map in this crs."
   ]
  },
  {
   "cell_type": "code",
   "execution_count": null,
   "id": "e81280cd",
   "metadata": {},
   "outputs": [],
   "source": [
    "earth_lat_lon = rioxarray.open_rasterio('/Users/ls/Downloads/elevation.tif')\n",
    "stack_countries_elevation(earth_lat_lon)"
   ]
  },
  {
   "cell_type": "markdown",
   "id": "7c741f58",
   "metadata": {},
   "source": [
    "The shapes and relative sizes of the countries look like what we'd expect with this crs, as you can confirm with the neat yellow outlines around the countries."
   ]
  },
  {
   "cell_type": "markdown",
   "id": "8a407370",
   "metadata": {},
   "source": [
    "Now, we'll use Xarray-spatial's `reproject` to reproject this map into the web mercator crs. Web mercator is a cylindrical projection and produces a conformal map (true angles), and it is the projection of choice for almost all web maps.\n",
    "\n",
    "To perform the reprojection, we just need the EPSG code, 3857. "
   ]
  },
  {
   "cell_type": "code",
   "execution_count": null,
   "id": "4d282ec3",
   "metadata": {},
   "outputs": [],
   "source": [
    "web_mercator_crs = 'EPSG:3857'\n",
    "web_mercator_earth = reproject(earth_lat_lon, web_mercator_crs)\n",
    "stack_countries_elevation(web_mercator_earth)"
   ]
  },
  {
   "cell_type": "markdown",
   "id": "f8abd85e",
   "metadata": {},
   "source": [
    "As you can see, this shrinks the sizes of countries closer to equator and stretches those at the poles in order to preserve the angles between directions.\n",
    "As you can also see, the yellow country oulines neatly wrap the countries displayed, showing that our reprojection is returning the correct shapes. Please note the cutoffs at the top and bottom of this map; these are due to the web mercator projection not applying to latitudes above and below +/-85.06 degrees."
   ]
  },
  {
   "cell_type": "markdown",
   "id": "50b6fb16",
   "metadata": {},
   "source": [
    "Now, let's try the Robinson projection. This map was designed to be \"right appearing\" and have a more intuitive feel to human readers, and has small distorions in all dimensions. It's code is ESRI:54030."
   ]
  },
  {
   "cell_type": "code",
   "execution_count": null,
   "id": "a1768d9f",
   "metadata": {},
   "outputs": [],
   "source": [
    "robinson_crs = 'ESRI:54030'\n",
    "robinson_earth = reproject(earth_lat_lon, robinson_crs)\n",
    "stack_countries_elevation(robinson_earth)"
   ]
  },
  {
   "cell_type": "markdown",
   "id": "8e196f9d",
   "metadata": {},
   "source": [
    "Note the 'rounded' perspective given to the map and countries, giving the appearance of viewing a spherical map, and giving room for intuitive interpretation and comprehension of relative shapes and directions. "
   ]
  },
  {
   "cell_type": "markdown",
   "id": "da704661",
   "metadata": {},
   "source": [
    "Another well-used one is the Transverse Mercator projection. Like the web mercator projection it's cylindrical and conformal, but the axes are switched; i.e. the earth sphere is stretched towards two parallels. It's most useful areas with small longitude ranges, such as states and counties."
   ]
  },
  {
   "cell_type": "code",
   "execution_count": null,
   "id": "1e8e65bf",
   "metadata": {},
   "outputs": [],
   "source": [
    "tvs_mctr_Italy = 'EPSG:3004'\n",
    "transverse_mercator_earth = reproject(earth_lat_lon, tvs_mctr_Italy)\n",
    "stack_countries_elevation(transverse_mercator_earth)"
   ]
  },
  {
   "cell_type": "markdown",
   "id": "20bdeeb0",
   "metadata": {},
   "source": [
    "The Lambert Conformal Conic projection, which works best around middle meridians."
   ]
  },
  {
   "cell_type": "code",
   "execution_count": null,
   "id": "49e8073c",
   "metadata": {},
   "outputs": [],
   "source": [
    "lambert_NA_crs = 'ESRI:102009'\n",
    "lambert_earth = reproject(earth_lat_lon, lambert_NA_crs)\n",
    "stack_countries_elevation(lambert_earth)"
   ]
  },
  {
   "cell_type": "markdown",
   "id": "3a6ae519",
   "metadata": {},
   "source": [
    "Another, unique, projection is the Space Oblique. This is a projection especially designed for satellite imagery so that it is completely free of distortion along the orbit path of the satellite."
   ]
  },
  {
   "cell_type": "code",
   "execution_count": null,
   "id": "0057bab0",
   "metadata": {},
   "outputs": [],
   "source": [
    "space_oblique_crs = 'EPSG:29873'\n",
    "space_oblique_earth = reproject(earth_lat_lon, space_oblique_crs)\n",
    "stack_countries_elevation(space_oblique_earth)"
   ]
  }
 ],
 "metadata": {
  "language_info": {
   "name": "python"
  }
 },
 "nbformat": 4,
 "nbformat_minor": 5
}
