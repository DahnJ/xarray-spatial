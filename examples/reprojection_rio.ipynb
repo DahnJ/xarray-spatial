{
 "cells": [
  {
   "cell_type": "code",
   "execution_count": null,
   "id": "2a806e31",
   "metadata": {},
   "outputs": [],
   "source": [
    "from reprojection import reproject\n",
    "import rioxarray\n",
    "import geopandas as gpd\n",
    "import xarray as xr\n",
    "import datashader as ds\n",
    "from datashader.transfer_functions import shade, stack\n",
    "from datashader.colors import Elevation\n",
    "from xrspatial import hillshade\n",
    "import spatialpandas as spd\n",
    "from rasterio.features import rasterize\n",
    "from datashader.transfer_functions import dynspread"
   ]
  },
  {
   "cell_type": "code",
   "execution_count": null,
   "id": "b240ea40",
   "metadata": {},
   "outputs": [],
   "source": [
    "%config Completer.use_jedi = False"
   ]
  },
  {
   "cell_type": "markdown",
   "id": "889fa9df",
   "metadata": {},
   "source": [
    "### Reprojection: transforming map DataArrays between coordinate reference systems (crs)\n",
    "#### Xarray-spatial's reproject takes in a spatially referenced source raster aligned with one coordinate reference system (crs) and transforms it into another crs, warping the shape and features."
   ]
  },
  {
   "cell_type": "markdown",
   "id": "e510525b",
   "metadata": {},
   "source": [
    "For what follows, we'll first set up a shader function to render our output DataArrays in color."
   ]
  },
  {
   "cell_type": "code",
   "execution_count": null,
   "id": "1faaca8c",
   "metadata": {},
   "outputs": [],
   "source": [
    "world = gpd.read_file(gpd.datasets.get_path('naturalearth_lowres'))\n",
    "countries = world[['name', 'geometry']]\n",
    "# countries = countries.to_crs('EPSG:3857')\n",
    "# countries = countries.explode('geometry').reset_index(drop=True)\n",
    "countries = spd.GeoDataFrame(countries, geometry='geometry')\n",
    "countries"
   ]
  },
  {
   "cell_type": "code",
   "execution_count": null,
   "id": "3146a034",
   "metadata": {},
   "outputs": [],
   "source": [
    "earth_lat_lon = rioxarray.open_rasterio('./elevation.tif').squeeze()\n",
    "shade(earth_lat_lon)"
   ]
  },
  {
   "cell_type": "code",
   "execution_count": null,
   "id": "d2b0f892",
   "metadata": {},
   "outputs": [],
   "source": [
    "elev2D = earth_lat_lon\n",
    "da_height, da_width = elev2D.shape\n",
    "xmin, xmax = elev2D.coords['x'].data.min(), elev2D.coords['x'].data.max()\n",
    "ymin, ymax = elev2D.coords['y'].data.min(), elev2D.coords['y'].data.max()\n",
    "canvas = ds.Canvas(plot_height=da_height, plot_width=da_width, x_range=(xmin, xmax), y_range=(ymin, ymax))\n",
    "\n",
    "countries_pgns = canvas.polygons(countries, geometry='geometry')\n",
    "\n",
    "elev_raster = canvas.raster(elev2D)\n",
    "shade(elev_raster)\n",
    "countries_pgns.coords['x'] = elev_raster.coords['x']\n",
    "countries_pgns.coords['y'] = elev_raster.coords['y'] \n",
    "countries_pgns.data = ds.utils.orient_array(countries_pgns)\n",
    "# elev_raster.data = ds.utils.orient_array(elev_raster)\n",
    "shade_elev = shade(elev_raster,alpha=255)\n",
    "shade_countries = shade(countries_pgns, cmap=['red'], alpha=50)\n",
    "stack(shade_elev, shade_countries)\n"
   ]
  },
  {
   "cell_type": "code",
   "execution_count": null,
   "id": "c84e731b",
   "metadata": {},
   "outputs": [],
   "source": [
    "\n",
    "def shade_elev_hs(elev_3D, band=1):\n",
    "    if not isinstance(elev_3D, xr.DataArray):\n",
    "        elev_3D = xr.DataArray(elev_3D, dims=('band', 'y', 'x'))\n",
    "    return stack(shade(elev_3D[band-1], cmap=Elevation),\n",
    "                 shade(hillshade(elev_3D[band-1]), cmap=['black', 'white'],\n",
    "                       how='eq_hist', alpha=0.6))"
   ]
  },
  {
   "cell_type": "markdown",
   "id": "32eef617",
   "metadata": {},
   "source": [
    "Now, we're ready to generate some map images.\n",
    "\n",
    "Representing a 3D surface like the earth in a 2D map has been a challenge for a long time in cartography. Many solutions have been found, but ultimately it comes down to a compromise between distortions in distance, direction, and area. Different coordinate reference systems (crs) perform differently in these 3 metrics in different map areas.\n",
    "\n",
    "A few of the more well-known projections follow:"
   ]
  },
  {
   "cell_type": "markdown",
   "id": "ebf60cd2",
   "metadata": {},
   "source": [
    "The lat/lon (equirectangular) projection, EPSG:4326.\n",
    "This very common one maps meridians and parallels to equally spaced vertical and horizontal lines, respectfully. Conversion between x, y coordinates on the map and earth locations are very simple, but its significant distortions make it impractical for many uses.\n",
    "\n",
    "We'll open an earth elevation map in this crs."
   ]
  },
  {
   "cell_type": "code",
   "execution_count": null,
   "id": "e81280cd",
   "metadata": {},
   "outputs": [],
   "source": [
    "earth_lat_lon = rioxarray.open_rasterio('/Users/ls/Downloads/elevation.tif', chunks=25)\n",
    "shade_elev_hs(earth_lat_lon)"
   ]
  },
  {
   "cell_type": "markdown",
   "id": "8a407370",
   "metadata": {},
   "source": [
    "Now, we'll use Xarray-spatial's `reproject` to reproject it into the web mercator crs. This is a cylindrical projection and produces a conformal map (true angles), and it is the projection of choice for almost all web maps.\n",
    "\n",
    "To perform the reprojection, we just need the EPSG code, which is EPSG:4326 in this case. "
   ]
  },
  {
   "cell_type": "code",
   "execution_count": null,
   "id": "4d282ec3",
   "metadata": {},
   "outputs": [],
   "source": [
    "web_mercator_crs = 'EPSG:3857'\n",
    "web_mercator_earth = reproject(earth_lat_lon, web_mercator_crs)\n",
    "shade_elev_hs(web_mercator_earth)"
   ]
  },
  {
   "cell_type": "markdown",
   "id": "50b6fb16",
   "metadata": {},
   "source": [
    "Next, we'll try the Robinson projection. This map was designed to be \"right appearing\" and has small distorions in all dimensions. It's code is ESRI:54030."
   ]
  },
  {
   "cell_type": "code",
   "execution_count": null,
   "id": "a1768d9f",
   "metadata": {},
   "outputs": [],
   "source": [
    "robinson_crs = 'ESRI:54030'\n",
    "robinson_earth = reproject(earth_lat_lon, robinson_crs)\n",
    "shade_elev_hs(robinson_earth)"
   ]
  },
  {
   "cell_type": "markdown",
   "id": "da704661",
   "metadata": {},
   "source": [
    "Another well-used one is the Transverse Mercator projection. It is a revision to the standard Mercator projection and also cylindrical and conformal, and it works best for mapping areas over small longitude range, such as states and counties."
   ]
  },
  {
   "cell_type": "code",
   "execution_count": null,
   "id": "1e8e65bf",
   "metadata": {},
   "outputs": [],
   "source": [
    "transverse_mercator_crs = 'EPSG:3004'\n",
    "transverse_mercator_earth = reproject(earth_lat_lon, transverse_mercator_crs)\n",
    "shade_elev_hs(transverse_mercator_earth)\n",
    "# shade_elev_hs(earth_lat_lon.rio.reproject('EPSG:3004'))"
   ]
  },
  {
   "cell_type": "code",
   "execution_count": null,
   "id": "af2cfdb8",
   "metadata": {},
   "outputs": [],
   "source": [
    "The Lambert Conformal Conic projection, which works best around middle meridians."
   ]
  },
  {
   "cell_type": "code",
   "execution_count": null,
   "id": "49e8073c",
   "metadata": {},
   "outputs": [],
   "source": [
    "lambert_crs = 'ESRI:102009'\n",
    "lambert_earth_NA = reproject(earth_lat_lon, lambert_crs)\n",
    "shade_elev_hs(lambert_earth_NA)"
   ]
  },
  {
   "cell_type": "markdown",
   "id": "3a6ae519",
   "metadata": {},
   "source": [
    "Another, unique, projection is the Space Oblique. This is a projection especially designed for satellite imagery so that it is completely free of distortion along the orbit path of the satellite."
   ]
  },
  {
   "cell_type": "code",
   "execution_count": null,
   "id": "0057bab0",
   "metadata": {},
   "outputs": [],
   "source": [
    "space_oblique_crs = 'EPSG:29873'\n",
    "space_oblique_earth = reproject(earth_lat_lon, space_oblique_crs)\n",
    "shade_elev_hs(space_oblique_earth)"
   ]
  }
 ],
 "metadata": {
  "language_info": {
   "name": "python"
  }
 },
 "nbformat": 4,
 "nbformat_minor": 5
}
